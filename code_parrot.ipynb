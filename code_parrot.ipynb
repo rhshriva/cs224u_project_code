{
 "cells": [
  {
   "cell_type": "markdown",
   "metadata": {},
   "source": [
    "### You may have to run the following otherwise put this in requirements.txt \n",
    "- pip3 install torch torchvision\n",
    "- conda install pytorch torchvision -c pytorch\n",
    "\n"
   ]
  },
  {
   "cell_type": "code",
   "execution_count": null,
   "metadata": {},
   "outputs": [],
   "source": [
    "!pip install ipykernel accelerate torch torchvision transformers datasets"
   ]
  },
  {
   "cell_type": "code",
   "execution_count": null,
   "metadata": {},
   "outputs": [],
   "source": [
    "from transformers import (\n",
    "    AutoTokenizer,\n",
    "    AutoModelForCausalLM,\n",
    "    Trainer,\n",
    "    TrainingArguments,\n",
    "    DataCollatorForLanguageModeling,\n",
    ")\n",
    "from datasets import load_dataset\n",
    "import torch\n",
    "import multiprocessing"
   ]
  },
  {
   "cell_type": "code",
   "execution_count": null,
   "metadata": {},
   "outputs": [],
   "source": [
    "# variables\n",
    "tokenize_parallize = True\n",
    "fraction = 0.025  # % of the data\n",
    "make_sample = True\n",
    "\n",
    "num_cores = multiprocessing.cpu_count()\n",
    "print(f\"Number of CPU cores: {num_cores}\")\n",
    "\n",
    "if torch.backends.mps.is_available():\n",
    "    device = torch.device(\"mps\")\n",
    "    print(\"Using MPS (Metal Performance Shaders) device\")\n",
    "elif torch.cuda.is_available():\n",
    "    device = torch.device(\"cuda\")\n",
    "    print(f\"Using CUDA device: {torch.cuda.get_device_name(0)}\")\n",
    "else:\n",
    "    device = torch.device(\"cpu\")\n",
    "    print(\"Using CPU device\")"
   ]
  },
  {
   "cell_type": "code",
   "execution_count": 4,
   "metadata": {},
   "outputs": [],
   "source": [
    "# Step 1: Load the dataset\n",
    "dataset = load_dataset(\"codeparrot/codeparrot-clean\")\n",
    "\n",
    "def sample_dataset(dataset, fraction):\n",
    "    total_samples = len(dataset)\n",
    "    num_samples = int(total_samples * fraction)\n",
    "    import random\n",
    "    random.seed(42)\n",
    "    indices = random.sample(range(total_samples), num_samples)\n",
    "    sampled_dataset = dataset.select(indices)\n",
    "    return sampled_dataset\n",
    "\n",
    "actual_train_data_set = sample_dataset(dataset[\"train\"], fraction=0.1) if make_sample else dataset[\"train\"].train_test_split(test_size=0.1)\n",
    "actual_eval_data_set = sample_dataset(dataset[\"train\"], fraction=0.01) if make_sample else dataset[\"train\"].train_test_split(test_size=0.1)"
   ]
  },
  {
   "cell_type": "code",
   "execution_count": null,
   "metadata": {},
   "outputs": [],
   "source": [
    "tokenizer = AutoTokenizer.from_pretrained(\"gpt2\", use_fast=True)\n",
    "# Set the pad_token to eos_token\n",
    "tokenizer.pad_token = tokenizer.eos_token\n",
    "\n",
    "# Step 4: Tokenize the datasets with truncation and max_length\n",
    "def tokenize_function(examples):\n",
    "    return tokenizer(\n",
    "        examples[\"content\"],\n",
    "        truncation=True,\n",
    "        max_length=tokenizer.model_max_length,\n",
    "        padding=False,\n",
    "    )\n",
    "\n",
    "import multiprocessing\n",
    "num_cores = multiprocessing.cpu_count()\n",
    "num_proc = max(1, num_cores - 2)  # Leave 2 cores free for other processes\n",
    "\n",
    "\n",
    "def parallel_tokenize(tokenize_function, num_proc):\n",
    "    tokenized_train_dataset = actual_train_data_set.map(\n",
    "    tokenize_function,\n",
    "    batched=True,\n",
    "    num_proc=num_proc,  # Number of processes to use\n",
    "    remove_columns=[\"content\"],)\n",
    "\n",
    "    tokenized_eval_dataset = actual_train_data_set.map(\n",
    "    tokenize_function,\n",
    "    batched=True,\n",
    "    num_proc=num_proc,  # Number of processes to use\n",
    "    remove_columns=[\"content\"],)\n",
    "\n",
    "    return tokenized_train_dataset, tokenized_eval_dataset\n",
    "\n",
    "def non_parallel_tokenize(tokenize_function):\n",
    "    tokenized_train_dataset = actual_train_data_set.map(\n",
    "    tokenize_function, batched=True, remove_columns=[\"content\"])\n",
    "    tokenized_eval_dataset = actual_eval_data_set.map(\n",
    "    tokenize_function, batched=True, remove_columns=[\"content\"])\n",
    "    return tokenized_train_dataset, tokenized_eval_dataset\n",
    "\n",
    "if tokenize_parallize:\n",
    "    tokenized_train_dataset, tokenized_eval_dataset = parallel_tokenize(tokenize_function, num_proc)\n",
    "else:\n",
    "    tokenized_train_dataset, tokenized_eval_dataset = non_parallel_tokenize(tokenize_function)"
   ]
  },
  {
   "cell_type": "code",
   "execution_count": 7,
   "metadata": {},
   "outputs": [],
   "source": [
    "# Step 7: Load the pre-trained model\n",
    "model = AutoModelForCausalLM.from_pretrained(\"gpt2\")\n",
    "# Move the model to the selected device\n",
    "device = torch.device(\"cuda\") if torch.cuda.is_available() else torch.device(\"cpu\")\n",
    "model.to(device)\n",
    "model.gradient_checkpointing_enable()"
   ]
  },
  {
   "cell_type": "code",
   "execution_count": 8,
   "metadata": {},
   "outputs": [],
   "source": [
    "data_collator = DataCollatorForLanguageModeling(tokenizer=tokenizer, mlm=False)"
   ]
  },
  {
   "cell_type": "code",
   "execution_count": null,
   "metadata": {},
   "outputs": [],
   "source": [
    "# Step 10: Define training arguments\n",
    "\n",
    "training_args = TrainingArguments(\n",
    "    output_dir=\"./codeparrot-finetuned\",\n",
    "    overwrite_output_dir=True,\n",
    "    num_train_epochs=3,\n",
    "    per_device_train_batch_size=4,\n",
    "    per_device_eval_batch_size=4,\n",
    "    gradient_accumulation_steps=2,\n",
    "    optim=\"adamw_torch\",\n",
    "    dataloader_num_workers=4,\n",
    "    evaluation_strategy=\"no\",  # Change this from \"steps\" to \"no\"\n",
    "    # Remove eval_steps since we're not evaluating\n",
    "    save_steps=200,\n",
    "    warmup_steps=50,\n",
    "    logging_dir=\"./logs\",\n",
    "    logging_steps=50,\n",
    "    save_total_limit=2,\n",
    "    dataloader_pin_memory=False,\n",
    "    fp16=False,\n",
    ")"
   ]
  },
  {
   "cell_type": "code",
   "execution_count": null,
   "metadata": {},
   "outputs": [],
   "source": [
    "# Step 11: Initialize the Trainer\n",
    "trainer = Trainer(\n",
    "    model=model,\n",
    "    args=training_args,\n",
    "    train_dataset=tokenized_train_dataset,\n",
    "    eval_dataset=tokenized_eval_dataset,\n",
    "    data_collator=data_collator,\n",
    ")\n",
    "\n",
    "# Step 12: Start training\n",
    "trainer.train()"
   ]
  }
 ],
 "metadata": {
  "kernelspec": {
   "display_name": "text_to_code",
   "language": "python",
   "name": "python3"
  },
  "language_info": {
   "codemirror_mode": {
    "name": "ipython",
    "version": 3
   },
   "file_extension": ".py",
   "mimetype": "text/x-python",
   "name": "python",
   "nbconvert_exporter": "python",
   "pygments_lexer": "ipython3",
   "version": "3.12.7"
  }
 },
 "nbformat": 4,
 "nbformat_minor": 2
}
